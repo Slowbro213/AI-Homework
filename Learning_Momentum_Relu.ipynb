{
  "nbformat": 4,
  "nbformat_minor": 0,
  "metadata": {
    "colab": {
      "provenance": []
    },
    "kernelspec": {
      "name": "python3",
      "display_name": "Python 3"
    },
    "language_info": {
      "name": "python"
    }
  },
  "cells": [
    {
      "cell_type": "markdown",
      "metadata": {
        "id": "b7WfPZRrAzSe"
      },
      "source": [
        "Setting Up the Environment\n",
        "-------------\n",
        "\n"
      ]
    },
    {
      "cell_type": "code",
      "execution_count": 12,
      "metadata": {
        "id": "EPih8JeSgk21"
      },
      "outputs": [],
      "source": [
        "# Import necessary libraries\n",
        "import numpy as np\n",
        "import tensorflow as tf\n",
        "from tensorflow.keras.models import Sequential\n",
        "from tensorflow.keras.layers import Dense\n",
        "from sklearn.model_selection import train_test_split\n",
        "from sklearn.preprocessing import StandardScaler, OneHotEncoder\n",
        "from sklearn.datasets import load_breast_cancer\n",
        "import matplotlib.pyplot as plt\n",
        "from sklearn.metrics import confusion_matrix\n",
        "import seaborn as sns\n",
        "from tensorflow.keras.optimizers import SGD"
      ]
    },
    {
      "cell_type": "markdown",
      "metadata": {
        "id": "wEJzJRmmA9R8"
      },
      "source": [
        "Data Preparation\n",
        "-----------"
      ]
    },
    {
      "cell_type": "code",
      "execution_count": 8,
      "metadata": {
        "id": "09Eso_mRhQOS"
      },
      "outputs": [],
      "source": [
        "# Load the Breast Cancer dataset\n",
        "breast = load_breast_cancer()\n",
        "X, y = breast.data, breast.target\n",
        "\n",
        "# One-hot encode the target labels\n",
        "encoder = OneHotEncoder(sparse_output=False)\n",
        "y = encoder.fit_transform(y.reshape(-1, 1))"
      ]
    },
    {
      "cell_type": "markdown",
      "metadata": {
        "id": "6jgw6lW4BB_9"
      },
      "source": [
        "Data Distribution\n",
        "-----------"
      ]
    },
    {
      "cell_type": "markdown",
      "metadata": {
        "id": "yNs6uN2uBIhf"
      },
      "source": [
        "Splitting the Data\n",
        "------------"
      ]
    },
    {
      "cell_type": "code",
      "execution_count": 9,
      "metadata": {
        "id": "jeaHspmlg0cL"
      },
      "outputs": [],
      "source": [
        "# Split the data into training and test sets\n",
        "X_train, X_test, y_train, y_test = train_test_split(X, y, test_size=0.3, random_state=42)\n",
        "\n",
        "# Standardize the features\n",
        "scaler = StandardScaler()\n",
        "X_train = scaler.fit_transform(X_train)\n",
        "X_test = scaler.transform(X_test)"
      ]
    },
    {
      "cell_type": "code",
      "source": [
        "#We define a function for easy code reusability\n",
        "def train_with(algo,lr,momentum):\n",
        "  model = Sequential([\n",
        "      Dense(32, activation=algo, input_shape=(X_train.shape[1],)),  # First hidden layer\n",
        "      Dense(16, activation=algo),  # Second hidden layer\n",
        "      Dense(8, activation=algo),  # Third hidden layer\n",
        "      Dense(2, activation='softmax')  # Output layer with 2 classes\n",
        "  ])\n",
        "\n",
        "\n",
        "  # Compile the model\n",
        "  if momentum == 1:\n",
        "    momentum = 0.9\n",
        "\n",
        "  optimizer = SGD(learning_rate=lr, momentum=momentum)\n",
        "  model.compile(optimizer=optimizer, loss='categorical_crossentropy', metrics=['accuracy'])\n",
        "\n",
        "  # Train the model\n",
        "\n",
        "  history = model.fit(X_train, y_train, epochs=100, validation_split=0.1, verbose=0)\n",
        "\n",
        "  test_loss, test_accuracy = model.evaluate(X_test, y_test, verbose=0)\n",
        "  print(f\"Learning Rate: {lr:.1f}, Momentum: {momentum:.1f}, Test Accuracy: {test_accuracy:.5f}\")\n",
        "\n",
        ""
      ],
      "metadata": {
        "id": "1j4MKgY0jwPV"
      },
      "execution_count": 17,
      "outputs": []
    },
    {
      "cell_type": "code",
      "source": [
        "print(\"Best Performing Function: Relu A.F\")\n",
        "for i in np.arange(0.1,1.1,0.1):\n",
        "  train_with(\"relu\",i,i)\n"
      ],
      "metadata": {
        "colab": {
          "base_uri": "https://localhost:8080/"
        },
        "id": "UBLseH6NpV5g",
        "outputId": "0af5dbc6-6cda-4290-bb91-bb65ebf0c53f"
      },
      "execution_count": 18,
      "outputs": [
        {
          "output_type": "stream",
          "name": "stdout",
          "text": [
            "Best Performing Function: Relu A.F\n",
            "Learning Rate: 0.1, Momentum: 0.1, Test Accuracy: 0.95906\n",
            "Learning Rate: 0.2, Momentum: 0.2, Test Accuracy: 0.96491\n",
            "Learning Rate: 0.3, Momentum: 0.3, Test Accuracy: 0.97076\n",
            "Learning Rate: 0.4, Momentum: 0.4, Test Accuracy: 0.97076\n",
            "Learning Rate: 0.5, Momentum: 0.5, Test Accuracy: 0.97076\n",
            "Learning Rate: 0.6, Momentum: 0.6, Test Accuracy: 0.97076\n",
            "Learning Rate: 0.7, Momentum: 0.7, Test Accuracy: 0.98246\n",
            "Learning Rate: 0.8, Momentum: 0.8, Test Accuracy: 0.63158\n",
            "Learning Rate: 0.9, Momentum: 0.9, Test Accuracy: 0.63158\n",
            "Learning Rate: 1.0, Momentum: 0.9, Test Accuracy: 0.63158\n"
          ]
        }
      ]
    }
  ]
}